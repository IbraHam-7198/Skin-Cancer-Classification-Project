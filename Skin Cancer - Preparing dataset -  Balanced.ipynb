{
 "cells": [
  {
   "cell_type": "markdown",
   "metadata": {},
   "source": [
    "# Importing the libraries"
   ]
  },
  {
   "cell_type": "code",
   "execution_count": 1,
   "metadata": {},
   "outputs": [
    {
     "name": "stdout",
     "output_type": "stream",
     "text": [
      "2.4.0\n"
     ]
    }
   ],
   "source": [
    "import numpy as np\n",
    "import tensorflow as tf\n",
    "import matplotlib.pyplot as plt\n",
    "from tensorflow.keras.preprocessing import image_dataset_from_directory\n",
    "import io\n",
    "import os\n",
    "from datetime import datetime\n",
    "import pandas as pd\n",
    "from skimage.io.collection import ImageCollection\n",
    "from skimage.io import imread\n",
    "from skimage.io import imshow\n",
    "from skimage.io import imsave\n",
    "\n",
    "print (tf.__version__)"
   ]
  },
  {
   "cell_type": "markdown",
   "metadata": {},
   "source": [
    "### Checking if the GPU is connected and running "
   ]
  },
  {
   "cell_type": "code",
   "execution_count": 2,
   "metadata": {},
   "outputs": [
    {
     "name": "stdout",
     "output_type": "stream",
     "text": [
      "1 Physical GPUs, 1 Logical GPUs\n"
     ]
    }
   ],
   "source": [
    "gpus = tf.config.experimental.list_physical_devices('GPU')\n",
    "if gpus:\n",
    "    try:\n",
    "        # Currently, memory growth needs to be the same across GPUs\n",
    "        for gpu in gpus:\n",
    "            tf.config.experimental.set_memory_growth(gpu, True)\n",
    "        logical_gpus = tf.config.experimental.list_logical_devices('GPU')\n",
    "        print(len(gpus), \"Physical GPUs,\", len(logical_gpus), \"Logical GPUs\")\n",
    "    except RuntimeError as e:\n",
    "        # Memory growth must be set before GPUs have been initialized\n",
    "        print(e)"
   ]
  },
  {
   "cell_type": "markdown",
   "metadata": {},
   "source": [
    "# Sorting the images in the dataset into folders based on the class"
   ]
  },
  {
   "cell_type": "markdown",
   "metadata": {},
   "source": [
    "## Import dataset "
   ]
  },
  {
   "cell_type": "code",
   "execution_count": 3,
   "metadata": {},
   "outputs": [
    {
     "data": {
      "text/html": [
       "<div>\n",
       "<style scoped>\n",
       "    .dataframe tbody tr th:only-of-type {\n",
       "        vertical-align: middle;\n",
       "    }\n",
       "\n",
       "    .dataframe tbody tr th {\n",
       "        vertical-align: top;\n",
       "    }\n",
       "\n",
       "    .dataframe thead th {\n",
       "        text-align: right;\n",
       "    }\n",
       "</style>\n",
       "<table border=\"1\" class=\"dataframe\">\n",
       "  <thead>\n",
       "    <tr style=\"text-align: right;\">\n",
       "      <th></th>\n",
       "      <th>lesion_id</th>\n",
       "      <th>image_id</th>\n",
       "      <th>dx</th>\n",
       "      <th>dx_type</th>\n",
       "      <th>age</th>\n",
       "      <th>sex</th>\n",
       "      <th>localization</th>\n",
       "    </tr>\n",
       "  </thead>\n",
       "  <tbody>\n",
       "    <tr>\n",
       "      <th>0</th>\n",
       "      <td>HAM_0000118</td>\n",
       "      <td>ISIC_0027419</td>\n",
       "      <td>bkl</td>\n",
       "      <td>histo</td>\n",
       "      <td>80.0</td>\n",
       "      <td>male</td>\n",
       "      <td>scalp</td>\n",
       "    </tr>\n",
       "    <tr>\n",
       "      <th>1</th>\n",
       "      <td>HAM_0000118</td>\n",
       "      <td>ISIC_0025030</td>\n",
       "      <td>bkl</td>\n",
       "      <td>histo</td>\n",
       "      <td>80.0</td>\n",
       "      <td>male</td>\n",
       "      <td>scalp</td>\n",
       "    </tr>\n",
       "    <tr>\n",
       "      <th>2</th>\n",
       "      <td>HAM_0002730</td>\n",
       "      <td>ISIC_0026769</td>\n",
       "      <td>bkl</td>\n",
       "      <td>histo</td>\n",
       "      <td>80.0</td>\n",
       "      <td>male</td>\n",
       "      <td>scalp</td>\n",
       "    </tr>\n",
       "    <tr>\n",
       "      <th>3</th>\n",
       "      <td>HAM_0002730</td>\n",
       "      <td>ISIC_0025661</td>\n",
       "      <td>bkl</td>\n",
       "      <td>histo</td>\n",
       "      <td>80.0</td>\n",
       "      <td>male</td>\n",
       "      <td>scalp</td>\n",
       "    </tr>\n",
       "    <tr>\n",
       "      <th>4</th>\n",
       "      <td>HAM_0001466</td>\n",
       "      <td>ISIC_0031633</td>\n",
       "      <td>bkl</td>\n",
       "      <td>histo</td>\n",
       "      <td>75.0</td>\n",
       "      <td>male</td>\n",
       "      <td>ear</td>\n",
       "    </tr>\n",
       "    <tr>\n",
       "      <th>...</th>\n",
       "      <td>...</td>\n",
       "      <td>...</td>\n",
       "      <td>...</td>\n",
       "      <td>...</td>\n",
       "      <td>...</td>\n",
       "      <td>...</td>\n",
       "      <td>...</td>\n",
       "    </tr>\n",
       "    <tr>\n",
       "      <th>10010</th>\n",
       "      <td>HAM_0002867</td>\n",
       "      <td>ISIC_0033084</td>\n",
       "      <td>akiec</td>\n",
       "      <td>histo</td>\n",
       "      <td>40.0</td>\n",
       "      <td>male</td>\n",
       "      <td>abdomen</td>\n",
       "    </tr>\n",
       "    <tr>\n",
       "      <th>10011</th>\n",
       "      <td>HAM_0002867</td>\n",
       "      <td>ISIC_0033550</td>\n",
       "      <td>akiec</td>\n",
       "      <td>histo</td>\n",
       "      <td>40.0</td>\n",
       "      <td>male</td>\n",
       "      <td>abdomen</td>\n",
       "    </tr>\n",
       "    <tr>\n",
       "      <th>10012</th>\n",
       "      <td>HAM_0002867</td>\n",
       "      <td>ISIC_0033536</td>\n",
       "      <td>akiec</td>\n",
       "      <td>histo</td>\n",
       "      <td>40.0</td>\n",
       "      <td>male</td>\n",
       "      <td>abdomen</td>\n",
       "    </tr>\n",
       "    <tr>\n",
       "      <th>10013</th>\n",
       "      <td>HAM_0000239</td>\n",
       "      <td>ISIC_0032854</td>\n",
       "      <td>akiec</td>\n",
       "      <td>histo</td>\n",
       "      <td>80.0</td>\n",
       "      <td>male</td>\n",
       "      <td>face</td>\n",
       "    </tr>\n",
       "    <tr>\n",
       "      <th>10014</th>\n",
       "      <td>HAM_0003521</td>\n",
       "      <td>ISIC_0032258</td>\n",
       "      <td>mel</td>\n",
       "      <td>histo</td>\n",
       "      <td>70.0</td>\n",
       "      <td>female</td>\n",
       "      <td>back</td>\n",
       "    </tr>\n",
       "  </tbody>\n",
       "</table>\n",
       "<p>10015 rows × 7 columns</p>\n",
       "</div>"
      ],
      "text/plain": [
       "         lesion_id      image_id     dx dx_type   age     sex localization\n",
       "0      HAM_0000118  ISIC_0027419    bkl   histo  80.0    male        scalp\n",
       "1      HAM_0000118  ISIC_0025030    bkl   histo  80.0    male        scalp\n",
       "2      HAM_0002730  ISIC_0026769    bkl   histo  80.0    male        scalp\n",
       "3      HAM_0002730  ISIC_0025661    bkl   histo  80.0    male        scalp\n",
       "4      HAM_0001466  ISIC_0031633    bkl   histo  75.0    male          ear\n",
       "...            ...           ...    ...     ...   ...     ...          ...\n",
       "10010  HAM_0002867  ISIC_0033084  akiec   histo  40.0    male      abdomen\n",
       "10011  HAM_0002867  ISIC_0033550  akiec   histo  40.0    male      abdomen\n",
       "10012  HAM_0002867  ISIC_0033536  akiec   histo  40.0    male      abdomen\n",
       "10013  HAM_0000239  ISIC_0032854  akiec   histo  80.0    male         face\n",
       "10014  HAM_0003521  ISIC_0032258    mel   histo  70.0  female         back\n",
       "\n",
       "[10015 rows x 7 columns]"
      ]
     },
     "execution_count": 3,
     "metadata": {},
     "output_type": "execute_result"
    }
   ],
   "source": [
    "os.getcwd()\n",
    "\n",
    "os.chdir('E:\\\\Cancer Project')\n",
    "\n",
    "dataset_info = pd.read_csv('HAM10000_metadata.csv')\n",
    "\n",
    "dataset_info"
   ]
  },
  {
   "cell_type": "markdown",
   "metadata": {},
   "source": [
    "## Understanding the characteristics of the dataset"
   ]
  },
  {
   "cell_type": "code",
   "execution_count": 4,
   "metadata": {},
   "outputs": [
    {
     "data": {
      "text/plain": [
       "array(['bkl', 'nv', 'df', 'mel', 'vasc', 'bcc', 'akiec'], dtype=object)"
      ]
     },
     "execution_count": 4,
     "metadata": {},
     "output_type": "execute_result"
    }
   ],
   "source": [
    "# All images have been labelled correclty \n",
    "\n",
    "dataset_info.dx.unique()"
   ]
  },
  {
   "cell_type": "code",
   "execution_count": 5,
   "metadata": {},
   "outputs": [
    {
     "name": "stdout",
     "output_type": "stream",
     "text": [
      "<class 'pandas.core.frame.DataFrame'>\n",
      "RangeIndex: 10015 entries, 0 to 10014\n",
      "Data columns (total 7 columns):\n",
      " #   Column        Non-Null Count  Dtype  \n",
      "---  ------        --------------  -----  \n",
      " 0   lesion_id     10015 non-null  object \n",
      " 1   image_id      10015 non-null  object \n",
      " 2   dx            10015 non-null  object \n",
      " 3   dx_type       10015 non-null  object \n",
      " 4   age           9958 non-null   float64\n",
      " 5   sex           10015 non-null  object \n",
      " 6   localization  10015 non-null  object \n",
      "dtypes: float64(1), object(6)\n",
      "memory usage: 547.8+ KB\n"
     ]
    }
   ],
   "source": [
    "#There seems to be some missing data under the age variable\n",
    "\n",
    "# Even though the age variable of the dataset has null values, we will continue to include these datapoints since the \n",
    "# CNN algorithm only takes the image as input. Hence if we have the image and the respective label we could train the \n",
    "# algorithm, despite there being missing values under the age variable \n",
    "\n",
    "dataset_info.info()"
   ]
  },
  {
   "cell_type": "code",
   "execution_count": 6,
   "metadata": {},
   "outputs": [
    {
     "name": "stdout",
     "output_type": "stream",
     "text": [
      "There are no duplicated images\n"
     ]
    }
   ],
   "source": [
    "if dataset_info.duplicated().unique() == False:\n",
    "    print ('There are no duplicated images')\n",
    "else:\n",
    "    print ('There are duplicated images')"
   ]
  },
  {
   "cell_type": "code",
   "execution_count": 7,
   "metadata": {},
   "outputs": [
    {
     "data": {
      "image/png": "[encoded data removed]",
      "text/plain": [
       "<Figure size 720x432 with 1 Axes>"
      ]
     },
     "metadata": {},
     "output_type": "display_data"
    },
    {
     "name": "stdout",
     "output_type": "stream",
     "text": [
      "\n",
      "-> The dataset is clearly imbalanced, dominated by the nv class. Therefore we will need to address this issue\n"
     ]
    }
   ],
   "source": [
    "dataset_info.dx.value_counts()\n",
    "\n",
    "plt.figure(figsize = (10,6))\n",
    "\n",
    "plt.pie(dataset_info.dx.value_counts(), autopct = '%1.2f%%',pctdistance = 1.15, colors = ['navy', 'hotpink','greenyellow', \\\n",
    "                                                                                         'deepskyblue', 'salmon','lightblue', 'green'])\n",
    "plt.legend(labels = dataset_info.dx.value_counts().reset_index()['index'].tolist(), loc = 'upper left', bbox_to_anchor = (1,0.9),\\\n",
    "          frameon = False)\n",
    "plt.show()\n",
    "\n",
    "print ('')\n",
    "print ('-> The dataset is clearly imbalanced, dominated by the nv class. Therefore we will need to address this issue')"
   ]
  },
  {
   "cell_type": "markdown",
   "metadata": {},
   "source": [
    "# Split the data into the Traning set and Test set"
   ]
  },
  {
   "cell_type": "code",
   "execution_count": 8,
   "metadata": {},
   "outputs": [],
   "source": [
    "from sklearn.model_selection import train_test_split\n",
    "train_dataframe, test_dataframe = train_test_split(dataset_info, test_size = 0.2, random_state = 0)"
   ]
  },
  {
   "cell_type": "code",
   "execution_count": 9,
   "metadata": {},
   "outputs": [
    {
     "data": {
      "text/plain": [
       "array(['nv', 'bcc', 'mel', 'akiec', 'bkl', 'df', 'vasc'], dtype=object)"
      ]
     },
     "execution_count": 9,
     "metadata": {},
     "output_type": "execute_result"
    }
   ],
   "source": [
    "# The train dataset has images from all classes\n",
    "train_dataframe.dx.unique()"
   ]
  },
  {
   "cell_type": "code",
   "execution_count": 10,
   "metadata": {},
   "outputs": [
    {
     "data": {
      "text/plain": [
       "array(['nv', 'bcc', 'mel', 'bkl', 'akiec', 'vasc', 'df'], dtype=object)"
      ]
     },
     "execution_count": 10,
     "metadata": {},
     "output_type": "execute_result"
    }
   ],
   "source": [
    "# The test dataset has images from all classes\n",
    "test_dataframe.dx.unique()"
   ]
  },
  {
   "cell_type": "markdown",
   "metadata": {},
   "source": [
    "# Identifying imbalance"
   ]
  },
  {
   "cell_type": "code",
   "execution_count": 11,
   "metadata": {},
   "outputs": [
    {
     "data": {
      "text/plain": [
       "[('nv', 0),\n",
       " ('bcc', 4951),\n",
       " ('mel', 4464),\n",
       " ('akiec', 5088),\n",
       " ('bkl', 4453),\n",
       " ('df', 5268),\n",
       " ('vasc', 5242)]"
      ]
     },
     "execution_count": 11,
     "metadata": {},
     "output_type": "execute_result"
    }
   ],
   "source": [
    "# Identifying the number of images required to ensure that there are equal number of images under each class\n",
    "\n",
    "imbalance = []\n",
    "for i in train_dataframe.dx.unique():\n",
    "    imbalance.append((i, len(train_dataframe.dx[train_dataframe.dx == 'nv']) - len(train_dataframe.dx[train_dataframe.dx == i])))\n",
    "imbalance"
   ]
  },
  {
   "cell_type": "code",
   "execution_count": 12,
   "metadata": {},
   "outputs": [
    {
     "data": {
      "text/plain": [
       "[('nv', 0),\n",
       " ('bcc', 12),\n",
       " ('mel', 5),\n",
       " ('akiec', 19),\n",
       " ('bkl', 4),\n",
       " ('df', 61),\n",
       " ('vasc', 46)]"
      ]
     },
     "execution_count": 12,
     "metadata": {},
     "output_type": "execute_result"
    }
   ],
   "source": [
    "# The Number of times a single image in an imbalanced class should be reproduced inorder to reach parity between classes\n",
    "\n",
    "Image_gen = []\n",
    "for i, j in enumerate(train_dataframe.dx.unique()):\n",
    "    if len(train_dataframe.dx[train_dataframe.dx == j])!= 0:\n",
    "        Image_gen.append((j, imbalance[i][1]//len(train_dataframe.dx[train_dataframe.dx == j])))\n",
    "    else:\n",
    "        pass\n",
    "Image_gen"
   ]
  },
  {
   "cell_type": "markdown",
   "metadata": {},
   "source": [
    "# Creating the Augementing fucnction"
   ]
  },
  {
   "cell_type": "code",
   "execution_count": 13,
   "metadata": {},
   "outputs": [],
   "source": [
    "data_augmentor = tf.keras.Sequential([tf.keras.layers.experimental.preprocessing.RandomFlip('horizontal_and_vertical'),\n",
    "                                        tf.keras.layers.experimental.preprocessing.RandomRotation(0.4),\n",
    "                                        tf.keras.layers.experimental.preprocessing.RandomZoom(0.1),\n",
    "                                        tf.keras.layers.experimental.preprocessing.RandomZoom(-0.3),\n",
    "                                        tf.keras.layers.experimental.preprocessing.RandomContrast(0.1)])"
   ]
  },
  {
   "cell_type": "markdown",
   "metadata": {},
   "source": [
    "# Saving newly generated images in the respective folders"
   ]
  },
  {
   "cell_type": "markdown",
   "metadata": {},
   "source": [
    "## Training set"
   ]
  },
  {
   "cell_type": "code",
   "execution_count": 14,
   "metadata": {},
   "outputs": [
    {
     "name": "stderr",
     "output_type": "stream",
     "text": [
      "<ipython-input-14-f5781f63b690>:23: UserWarning: ISIC_0032170_0.jpg is a low contrast image\n",
      "  imsave('{}_{}.jpg'.format(k,r), tf.squeeze(processed_image))\n",
      "<ipython-input-14-f5781f63b690>:23: UserWarning: ISIC_0032170_1.jpg is a low contrast image\n",
      "  imsave('{}_{}.jpg'.format(k,r), tf.squeeze(processed_image))\n",
      "<ipython-input-14-f5781f63b690>:23: UserWarning: ISIC_0032170_2.jpg is a low contrast image\n",
      "  imsave('{}_{}.jpg'.format(k,r), tf.squeeze(processed_image))\n",
      "<ipython-input-14-f5781f63b690>:23: UserWarning: ISIC_0024337_0.jpg is a low contrast image\n",
      "  imsave('{}_{}.jpg'.format(k,r), tf.squeeze(processed_image))\n",
      "<ipython-input-14-f5781f63b690>:23: UserWarning: ISIC_0024337_1.jpg is a low contrast image\n",
      "  imsave('{}_{}.jpg'.format(k,r), tf.squeeze(processed_image))\n",
      "<ipython-input-14-f5781f63b690>:23: UserWarning: ISIC_0024337_3.jpg is a low contrast image\n",
      "  imsave('{}_{}.jpg'.format(k,r), tf.squeeze(processed_image))\n"
     ]
    }
   ],
   "source": [
    "for i,j in enumerate(train_dataframe.dx.unique()):\n",
    "    if j == 'nv': # << Dominant class\n",
    "        if not os.path.exists('E:\\\\Cancer Project\\\\Labelled_Dataset_1\\\\Train_set\\\\'+ str(j)): # << Update based on the location where you want to save the newly generated images\n",
    "            # This should ideally be within the Train_set folder since we want to save the newly generated images within the sub-folders for each category under the Train_set folder\n",
    "            os.mkdir('E:\\\\Cancer Project\\\\Labelled_Dataset_1\\\\Train_set\\\\'+ str(j)) \n",
    "        os.chdir('E:\\\\Cancer Project\\\\All_images') # << reset the directory to the location will all images\n",
    "        for k in train_dataframe.image_id[dataset_info.dx == j]:\n",
    "            os.chdir('E:\\\\Cancer Project\\\\All_images') # << reset the directory to the location will all images\n",
    "            data = imread(k+'.jpg')\n",
    "            os.chdir('E:\\\\Cancer Project\\\\Labelled_Dataset_1\\\\Train_set\\\\'+ str(j)) # << updating the location to save the newly generated image \n",
    "            imsave('{}.jpg'.format(k), data)\n",
    "    \n",
    "    else: #<< Other classes\n",
    "        if not os.path.exists('E:\\\\Cancer Project\\\\Labelled_Dataset_1\\\\Train_set\\\\'+ str(j)):\n",
    "            os.mkdir('E:\\\\Cancer Project\\\\Labelled_Dataset_1\\\\Train_set\\\\'+ str(j))\n",
    "        os.chdir('E:\\\\Cancer Project\\\\All_images')\n",
    "        for k in train_dataframe.image_id[dataset_info.dx == j]:\n",
    "            for r in range (0,Image_gen[i][1]):\n",
    "                os.chdir('E:\\\\Cancer Project\\\\All_images')\n",
    "                raw_image = imread(k+'.jpg')\n",
    "                augmented_image = tf.expand_dims(raw_image,0)\n",
    "                processed_image = data_augmentor(augmented_image) \n",
    "                os.chdir('E:\\\\Cancer Project\\\\Labelled_Dataset_1\\\\Train_set\\\\'+ str(j))\n",
    "                imsave('{}_{}.jpg'.format(k,r), tf.squeeze(processed_image))"
   ]
  },
  {
   "cell_type": "markdown",
   "metadata": {},
   "source": [
    "## Test set"
   ]
  },
  {
   "cell_type": "code",
   "execution_count": 15,
   "metadata": {},
   "outputs": [],
   "source": [
    "for i in dataset_info.dx.unique():\n",
    "    if not os.path.exists('E:\\\\Cancer Project\\\\Labelled_Dataset_1\\\\Test_set\\\\'+ str(i)): # << Update based on the location where you want to save the newly generated images\n",
    "            # This should ideally be within the Test_set folder since we want to save the newly generated images within the sub-folders for each category under the Test_set folder\n",
    "        os.mkdir('E:\\\\Cancer Project\\\\Labelled_Dataset_1\\\\Test_set\\\\'+ str(i))\n",
    "    os.chdir('E:\\\\Cancer Project\\\\All_images') # << reset the directory to the location will all images\n",
    "    for j in test_dataframe.image_id[dataset_info.dx == i]:\n",
    "        os.chdir('E:\\\\Cancer Project\\\\All_images') # << reset the directory to the location will all images\n",
    "        data = imread(j+'.jpg')\n",
    "        os.chdir('E:\\\\Cancer Project\\\\Labelled_Dataset_1\\\\Test_set\\\\'+ str(i)) # << updating the location to save the newly generated image \n",
    "        imsave('{}.jpg'.format(j), data)"
   ]
  }
 ],
 "metadata": {
  "kernelspec": {
   "display_name": "Python 3",
   "language": "python",
   "name": "python3"
  },
  "language_info": {
   "codemirror_mode": {
    "name": "ipython",
    "version": 3
   },
   "file_extension": ".py",
   "mimetype": "text/x-python",
   "name": "python",
   "nbconvert_exporter": "python",
   "pygments_lexer": "ipython3",
   "version": "3.8.5"
  }
 },
 "nbformat": 4,
 "nbformat_minor": 4
}
